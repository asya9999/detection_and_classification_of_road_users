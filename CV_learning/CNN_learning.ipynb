{
 "cells": [
  {
   "cell_type": "code",
   "execution_count": 1,
   "metadata": {},
   "outputs": [
    {
     "name": "stderr",
     "output_type": "stream",
     "text": [
      "Using TensorFlow backend.\n"
     ]
    }
   ],
   "source": [
    "from keras.models import Sequential\n",
    "from keras.layers import Dense, Activation, Conv2D, MaxPooling2D, Flatten, Dropout, BatchNormalization\n",
    "from keras.utils import to_categorical"
   ]
  },
  {
   "cell_type": "code",
   "execution_count": 2,
   "metadata": {},
   "outputs": [],
   "source": [
    "import matplotlib.pyplot as plt\n",
    "import pandas as pd\n",
    "import numpy as np"
   ]
  },
  {
   "cell_type": "code",
   "execution_count": 3,
   "metadata": {},
   "outputs": [
    {
     "name": "stderr",
     "output_type": "stream",
     "text": [
      "/Users/anastasia/opt/anaconda3/envs/nlp_course/lib/python3.7/site-packages/ipykernel_launcher.py:3: FutureWarning: Method .as_matrix will be removed in a future version. Use .values instead.\n",
      "  This is separate from the ipykernel package so we can avoid doing imports until\n"
     ]
    }
   ],
   "source": [
    "#get the data\n",
    "data = pd.read_csv('./fashion-mnist_test.csv')\n",
    "data = data.as_matrix()"
   ]
  },
  {
   "cell_type": "code",
   "execution_count": 4,
   "metadata": {},
   "outputs": [],
   "source": [
    "X = data[:, 1:].reshape(-1, 28, 28, 1)/255.0\n",
    "Y = data[:, 0].astype(np.int32)"
   ]
  },
  {
   "cell_type": "code",
   "execution_count": 5,
   "metadata": {},
   "outputs": [
    {
     "data": {
      "text/plain": [
       "10"
      ]
     },
     "execution_count": 5,
     "metadata": {},
     "output_type": "execute_result"
    }
   ],
   "source": [
    "K = len(set(Y))\n",
    "K"
   ]
  },
  {
   "cell_type": "code",
   "execution_count": 6,
   "metadata": {},
   "outputs": [
    {
     "data": {
      "text/plain": [
       "array([[1., 0., 0., ..., 0., 0., 0.],\n",
       "       [0., 1., 0., ..., 0., 0., 0.],\n",
       "       [0., 0., 1., ..., 0., 0., 0.],\n",
       "       ...,\n",
       "       [0., 0., 0., ..., 0., 1., 0.],\n",
       "       [0., 0., 0., ..., 0., 1., 0.],\n",
       "       [0., 1., 0., ..., 0., 0., 0.]], dtype=float32)"
      ]
     },
     "execution_count": 6,
     "metadata": {},
     "output_type": "execute_result"
    }
   ],
   "source": [
    "#one-hot encoding\n",
    "Y =  to_categorical(Y)\n",
    "Y"
   ]
  },
  {
   "cell_type": "code",
   "execution_count": 7,
   "metadata": {},
   "outputs": [],
   "source": [
    "#the model - sequence of layers\n",
    "model = Sequential()"
   ]
  },
  {
   "cell_type": "code",
   "execution_count": 8,
   "metadata": {},
   "outputs": [
    {
     "name": "stdout",
     "output_type": "stream",
     "text": [
      "WARNING:tensorflow:From /Users/anastasia/opt/anaconda3/envs/nlp_course/lib/python3.7/site-packages/tensorflow/python/framework/op_def_library.py:263: colocate_with (from tensorflow.python.framework.ops) is deprecated and will be removed in a future version.\n",
      "Instructions for updating:\n",
      "Colocations handled automatically by placer.\n",
      "WARNING:tensorflow:From /Users/anastasia/opt/anaconda3/envs/nlp_course/lib/python3.7/site-packages/keras/backend/tensorflow_backend.py:3445: calling dropout (from tensorflow.python.ops.nn_ops) with keep_prob is deprecated and will be removed in a future version.\n",
      "Instructions for updating:\n",
      "Please use `rate` instead of `keep_prob`. Rate should be set to `rate = 1 - keep_prob`.\n"
     ]
    }
   ],
   "source": [
    "model.add(Conv2D(input_shape=(28, 28, 1), filters=32, kernel_size=(3, 3)))\n",
    "model.add(BatchNormalization())\n",
    "model.add(Activation('relu'))\n",
    "model.add(MaxPooling2D())\n",
    "\n",
    "model.add(Conv2D(filters=64, kernel_size=(3,3)))\n",
    "model.add(BatchNormalization())\n",
    "model.add(Activation('relu'))\n",
    "model.add(MaxPooling2D())\n",
    "\n",
    "model.add(Conv2D(filters=128, kernel_size=(3,3)))\n",
    "model.add(BatchNormalization())\n",
    "model.add(Activation('relu'))\n",
    "model.add(MaxPooling2D())\n",
    "\n",
    "model.add(Flatten())\n",
    "model.add(Dense(units=300))\n",
    "model.add(Activation('relu'))\n",
    "model.add(Dropout(0.2))\n",
    "model.add(Dense(units=K))\n",
    "model.add(Activation('softmax'))"
   ]
  },
  {
   "cell_type": "code",
   "execution_count": 9,
   "metadata": {},
   "outputs": [],
   "source": [
    "model.compile(\n",
    "    loss='categorical_crossentropy',\n",
    "    optimizer='adam',\n",
    "    metrics=['accuracy']\n",
    ")"
   ]
  },
  {
   "cell_type": "code",
   "execution_count": 10,
   "metadata": {},
   "outputs": [
    {
     "name": "stdout",
     "output_type": "stream",
     "text": [
      "WARNING:tensorflow:From /Users/anastasia/opt/anaconda3/envs/nlp_course/lib/python3.7/site-packages/tensorflow/python/ops/math_ops.py:3066: to_int32 (from tensorflow.python.ops.math_ops) is deprecated and will be removed in a future version.\n",
      "Instructions for updating:\n",
      "Use tf.cast instead.\n",
      "Train on 6699 samples, validate on 3301 samples\n",
      "Epoch 1/15\n",
      "6699/6699 [==============================] - 21s 3ms/step - loss: 0.7509 - acc: 0.7307 - val_loss: 0.5738 - val_acc: 0.7913\n",
      "Epoch 2/15\n",
      "6699/6699 [==============================] - 16s 2ms/step - loss: 0.4850 - acc: 0.8246 - val_loss: 0.4897 - val_acc: 0.8191\n",
      "Epoch 3/15\n",
      "6699/6699 [==============================] - 17s 3ms/step - loss: 0.3899 - acc: 0.8552 - val_loss: 0.5374 - val_acc: 0.8104\n",
      "Epoch 4/15\n",
      "6699/6699 [==============================] - 28s 4ms/step - loss: 0.3297 - acc: 0.8704 - val_loss: 0.4400 - val_acc: 0.8225\n",
      "Epoch 5/15\n",
      "6699/6699 [==============================] - 17s 3ms/step - loss: 0.2749 - acc: 0.8997 - val_loss: 0.4504 - val_acc: 0.8367\n",
      "Epoch 6/15\n",
      "6699/6699 [==============================] - 16s 2ms/step - loss: 0.2294 - acc: 0.9160 - val_loss: 0.4945 - val_acc: 0.8364\n",
      "Epoch 7/15\n",
      "6699/6699 [==============================] - 17s 2ms/step - loss: 0.2001 - acc: 0.9279 - val_loss: 0.5281 - val_acc: 0.8313\n",
      "Epoch 8/15\n",
      "6699/6699 [==============================] - 18s 3ms/step - loss: 0.1761 - acc: 0.9346 - val_loss: 0.6014 - val_acc: 0.8101\n",
      "Epoch 9/15\n",
      "6699/6699 [==============================] - 17s 3ms/step - loss: 0.1423 - acc: 0.9491 - val_loss: 0.5410 - val_acc: 0.8379\n",
      "Epoch 10/15\n",
      "6699/6699 [==============================] - 20s 3ms/step - loss: 0.1143 - acc: 0.9581 - val_loss: 0.5904 - val_acc: 0.8346\n",
      "Epoch 11/15\n",
      "6699/6699 [==============================] - 18s 3ms/step - loss: 0.0969 - acc: 0.9648 - val_loss: 0.6765 - val_acc: 0.8349\n",
      "Epoch 12/15\n",
      "6699/6699 [==============================] - 17s 3ms/step - loss: 0.0993 - acc: 0.9628 - val_loss: 0.5838 - val_acc: 0.8425\n",
      "Epoch 13/15\n",
      "6699/6699 [==============================] - 20s 3ms/step - loss: 0.0882 - acc: 0.9681 - val_loss: 0.6014 - val_acc: 0.8507\n",
      "Epoch 14/15\n",
      "6699/6699 [==============================] - 18s 3ms/step - loss: 0.0717 - acc: 0.9740 - val_loss: 0.5068 - val_acc: 0.8622\n",
      "Epoch 15/15\n",
      "6699/6699 [==============================] - 19s 3ms/step - loss: 0.0646 - acc: 0.9773 - val_loss: 0.8508 - val_acc: 0.8137\n",
      "Returned: <keras.callbacks.History object at 0x63ca6dfd0>\n"
     ]
    }
   ],
   "source": [
    "#prints epochs and accuracy\n",
    "#gives back keras history object\n",
    "r = model.fit(X, Y, validation_split=0.33, epochs=15, batch_size=32)\n",
    "print('Returned:', r)"
   ]
  },
  {
   "cell_type": "code",
   "execution_count": 11,
   "metadata": {},
   "outputs": [
    {
     "name": "stdout",
     "output_type": "stream",
     "text": [
      "dict_keys(['val_loss', 'val_acc', 'loss', 'acc'])\n"
     ]
    }
   ],
   "source": [
    "print(r.history.keys())"
   ]
  },
  {
   "cell_type": "code",
   "execution_count": 13,
   "metadata": {},
   "outputs": [
    {
     "data": {
      "image/png": "[encoded data removed]",
      "text/plain": [
       "<Figure size 432x288 with 1 Axes>"
      ]
     },
     "metadata": {
      "needs_background": "light"
     },
     "output_type": "display_data"
    }
   ],
   "source": [
    "plt.plot(r.history['loss'], label='loss')\n",
    "plt.plot(r.history['val_loss'], label='val_loss')\n",
    "plt.legend()\n",
    "plt.show()"
   ]
  },
  {
   "cell_type": "code",
   "execution_count": 14,
   "metadata": {},
   "outputs": [
    {
     "data": {
      "image/png": "[encoded data removed]",
      "text/plain": [
       "<Figure size 432x288 with 1 Axes>"
      ]
     },
     "metadata": {
      "needs_background": "light"
     },
     "output_type": "display_data"
    }
   ],
   "source": [
    "plt.plot(r.history['acc'], label='acc')\n",
    "plt.plot(r.history['val_acc'], label='val_acc')\n",
    "plt.legend()\n",
    "plt.show()"
   ]
  },
  {
   "cell_type": "code",
   "execution_count": null,
   "metadata": {},
   "outputs": [],
   "source": [
    "#keras functional api\n",
    "#pass datagraph node to each layer\n",
    "# i = Input(shape=(28, 28, 1))\n",
    "# x = Conv2D(filters=32, kernel_size=(3, 3))(i)\n",
    "# model = Model(inputs=i, outputs=x)"
   ]
  }
 ],
 "metadata": {
  "kernelspec": {
   "display_name": "Python 3",
   "language": "python",
   "name": "python3"
  },
  "language_info": {
   "codemirror_mode": {
    "name": "ipython",
    "version": 3
   },
   "file_extension": ".py",
   "mimetype": "text/x-python",
   "name": "python",
   "nbconvert_exporter": "python",
   "pygments_lexer": "ipython3",
   "version": "3.6.4"
  }
 },
 "nbformat": 4,
 "nbformat_minor": 4
}
